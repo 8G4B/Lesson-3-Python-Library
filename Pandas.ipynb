{
 "cells": [
  {
   "cell_type": "markdown",
   "metadata": {
    "id": "8rMetJFY9kXP"
   },
   "source": [
    "## Pandas 기초\n",
    "Pandas 모듈\n",
    "- Series Class : 1차원\n",
    "  - 인덱스(index) + 값(value)\n",
    "- DataFrame Class : 2차원\n",
    "  - 표와 같은 형태\n"
   ]
  },
  {
   "cell_type": "code",
   "metadata": {
    "id": "BCaVXlgv-FKu",
    "ExecuteTime": {
     "end_time": "2025-04-18T00:29:20.746020Z",
     "start_time": "2025-04-18T00:29:20.741863Z"
    }
   },
   "source": [
    "import pandas as pd"
   ],
   "outputs": [],
   "execution_count": 55
  },
  {
   "cell_type": "markdown",
   "metadata": {
    "id": "xSR61U2jAC6V"
   },
   "source": [
    "#### Pandas 연습 01\n",
    "각 도시의 2015년 인구 데이터를 시리즈로 만드시오.\n",
    "```\n",
    "서울    9904312\n",
    "부산    3448737\n",
    "인천    2890451\n",
    "대구    2466052\n",
    "dtype: int64\n",
    "```"
   ]
  },
  {
   "cell_type": "code",
   "metadata": {
    "id": "6udgMjYXB8qt",
    "ExecuteTime": {
     "end_time": "2025-04-18T00:29:20.776021Z",
     "start_time": "2025-04-18T00:29:20.768944Z"
    }
   },
   "source": [
    "se = pd.Series([9904312, 3448737, 2890451, 2466052],\n",
    "             index=['서울', '부산', '인천', '대구'])\n",
    "\n",
    "se"
   ],
   "outputs": [
    {
     "data": {
      "text/plain": [
       "서울    9904312\n",
       "부산    3448737\n",
       "인천    2890451\n",
       "대구    2466052\n",
       "dtype: int64"
      ]
     },
     "execution_count": 56,
     "metadata": {},
     "output_type": "execute_result"
    }
   ],
   "execution_count": 56
  },
  {
   "cell_type": "markdown",
   "metadata": {
    "id": "tgk9wRf_HkiR"
   },
   "source": [
    "#### Pandas 연습 02\n",
    "DataFrame을 이용하여 아래와 같은 결과를 구성하시오.\n",
    "\n",
    "| |홍길동|\t김사또|\t임꺽정|\n",
    "|---|---|---|---|\n",
    "|키|\t175.3|\t180.2|\t178.6|\n",
    "|몸무게|\t66.2|\t78.9|\t55.1|\n",
    "|나이|\t27.0|\t49.0|\t35.0|\n"
   ]
  },
  {
   "cell_type": "code",
   "metadata": {
    "id": "SaS7ispgOK-I",
    "ExecuteTime": {
     "end_time": "2025-04-18T00:29:20.883522Z",
     "start_time": "2025-04-18T00:29:20.869158Z"
    }
   },
   "source": [
    "df = pd.DataFrame({'홍길동': [175.3, 66.2, 27.0],\n",
    "                   '김사또': [180.2, 78.9, 49.0],\n",
    "                   '임꺽정': [178.6, 55.1, 35.0]},\n",
    "                  index=['키', '몸무게', '나이'])\n",
    "df"
   ],
   "outputs": [
    {
     "data": {
      "text/plain": [
       "       홍길동    김사또    임꺽정\n",
       "키    175.3  180.2  178.6\n",
       "몸무게   66.2   78.9   55.1\n",
       "나이    27.0   49.0   35.0"
      ],
      "text/html": [
       "<div>\n",
       "<style scoped>\n",
       "    .dataframe tbody tr th:only-of-type {\n",
       "        vertical-align: middle;\n",
       "    }\n",
       "\n",
       "    .dataframe tbody tr th {\n",
       "        vertical-align: top;\n",
       "    }\n",
       "\n",
       "    .dataframe thead th {\n",
       "        text-align: right;\n",
       "    }\n",
       "</style>\n",
       "<table border=\"1\" class=\"dataframe\">\n",
       "  <thead>\n",
       "    <tr style=\"text-align: right;\">\n",
       "      <th></th>\n",
       "      <th>홍길동</th>\n",
       "      <th>김사또</th>\n",
       "      <th>임꺽정</th>\n",
       "    </tr>\n",
       "  </thead>\n",
       "  <tbody>\n",
       "    <tr>\n",
       "      <th>키</th>\n",
       "      <td>175.3</td>\n",
       "      <td>180.2</td>\n",
       "      <td>178.6</td>\n",
       "    </tr>\n",
       "    <tr>\n",
       "      <th>몸무게</th>\n",
       "      <td>66.2</td>\n",
       "      <td>78.9</td>\n",
       "      <td>55.1</td>\n",
       "    </tr>\n",
       "    <tr>\n",
       "      <th>나이</th>\n",
       "      <td>27.0</td>\n",
       "      <td>49.0</td>\n",
       "      <td>35.0</td>\n",
       "    </tr>\n",
       "  </tbody>\n",
       "</table>\n",
       "</div>"
      ]
     },
     "execution_count": 57,
     "metadata": {},
     "output_type": "execute_result"
    }
   ],
   "execution_count": 57
  },
  {
   "cell_type": "markdown",
   "metadata": {
    "id": "QmIcE07nyyEb"
   },
   "source": [
    "#### Pandas 연습 03-1\n",
    "\n",
    "#### csv 파일 읽어온다.\n",
    "\n",
    "score.csv\n",
    "\n",
    "drive_path = '...'"
   ]
  },
  {
   "cell_type": "code",
   "metadata": {
    "id": "XInderyB7oD-",
    "ExecuteTime": {
     "end_time": "2025-04-18T00:29:21.219288Z",
     "start_time": "2025-04-18T00:29:21.206138Z"
    }
   },
   "source": [
    "drive_path = './data/'\n",
    "\n",
    "score = pd.read_csv(drive_path + 'score.csv',\n",
    "                    index_col='과목', encoding='utf-8')\n",
    "score"
   ],
   "outputs": [
    {
     "data": {
      "text/plain": [
       "    1반  2반  3반  4반\n",
       "과목                \n",
       "수학  45  44  73  39\n",
       "영어  76  92  45  69\n",
       "국어  47  92  45  69\n",
       "사회  92  81  85  40\n",
       "과학  11  79  47  26"
      ],
      "text/html": [
       "<div>\n",
       "<style scoped>\n",
       "    .dataframe tbody tr th:only-of-type {\n",
       "        vertical-align: middle;\n",
       "    }\n",
       "\n",
       "    .dataframe tbody tr th {\n",
       "        vertical-align: top;\n",
       "    }\n",
       "\n",
       "    .dataframe thead th {\n",
       "        text-align: right;\n",
       "    }\n",
       "</style>\n",
       "<table border=\"1\" class=\"dataframe\">\n",
       "  <thead>\n",
       "    <tr style=\"text-align: right;\">\n",
       "      <th></th>\n",
       "      <th>1반</th>\n",
       "      <th>2반</th>\n",
       "      <th>3반</th>\n",
       "      <th>4반</th>\n",
       "    </tr>\n",
       "    <tr>\n",
       "      <th>과목</th>\n",
       "      <th></th>\n",
       "      <th></th>\n",
       "      <th></th>\n",
       "      <th></th>\n",
       "    </tr>\n",
       "  </thead>\n",
       "  <tbody>\n",
       "    <tr>\n",
       "      <th>수학</th>\n",
       "      <td>45</td>\n",
       "      <td>44</td>\n",
       "      <td>73</td>\n",
       "      <td>39</td>\n",
       "    </tr>\n",
       "    <tr>\n",
       "      <th>영어</th>\n",
       "      <td>76</td>\n",
       "      <td>92</td>\n",
       "      <td>45</td>\n",
       "      <td>69</td>\n",
       "    </tr>\n",
       "    <tr>\n",
       "      <th>국어</th>\n",
       "      <td>47</td>\n",
       "      <td>92</td>\n",
       "      <td>45</td>\n",
       "      <td>69</td>\n",
       "    </tr>\n",
       "    <tr>\n",
       "      <th>사회</th>\n",
       "      <td>92</td>\n",
       "      <td>81</td>\n",
       "      <td>85</td>\n",
       "      <td>40</td>\n",
       "    </tr>\n",
       "    <tr>\n",
       "      <th>과학</th>\n",
       "      <td>11</td>\n",
       "      <td>79</td>\n",
       "      <td>47</td>\n",
       "      <td>26</td>\n",
       "    </tr>\n",
       "  </tbody>\n",
       "</table>\n",
       "</div>"
      ]
     },
     "execution_count": 58,
     "metadata": {},
     "output_type": "execute_result"
    }
   ],
   "execution_count": 58
  },
  {
   "cell_type": "markdown",
   "metadata": {
    "id": "lUlJOgBp0MLC"
   },
   "source": [
    "과목별 평균을 계산하여 column 추가하기\n",
    "```\n",
    "\n",
    "        1반  2반\t3반\t4반\t합계\t평균\n",
    "과목\n",
    "수학\t45\t44\t73\t39\t201\t50.25\n",
    "영어\t76\t92\t45\t69\t282\t70.50\n",
    "국어\t47\t92\t45\t69\t253\t63.25\n",
    "사회\t92\t81\t85\t40\t298\t74.50\n",
    "과학\t11\t79\t47\t26\t163\t40.75\n",
    "```\n"
   ]
  },
  {
   "cell_type": "code",
   "metadata": {
    "id": "zn1O-JdbZXiP",
    "ExecuteTime": {
     "end_time": "2025-04-18T00:29:21.391402Z",
     "start_time": "2025-04-18T00:29:21.379951Z"
    }
   },
   "source": [
    "score['합계'] = score.sum(axis=1)\n",
    "score"
   ],
   "outputs": [
    {
     "data": {
      "text/plain": [
       "    1반  2반  3반  4반   합계\n",
       "과목                     \n",
       "수학  45  44  73  39  201\n",
       "영어  76  92  45  69  282\n",
       "국어  47  92  45  69  253\n",
       "사회  92  81  85  40  298\n",
       "과학  11  79  47  26  163"
      ],
      "text/html": [
       "<div>\n",
       "<style scoped>\n",
       "    .dataframe tbody tr th:only-of-type {\n",
       "        vertical-align: middle;\n",
       "    }\n",
       "\n",
       "    .dataframe tbody tr th {\n",
       "        vertical-align: top;\n",
       "    }\n",
       "\n",
       "    .dataframe thead th {\n",
       "        text-align: right;\n",
       "    }\n",
       "</style>\n",
       "<table border=\"1\" class=\"dataframe\">\n",
       "  <thead>\n",
       "    <tr style=\"text-align: right;\">\n",
       "      <th></th>\n",
       "      <th>1반</th>\n",
       "      <th>2반</th>\n",
       "      <th>3반</th>\n",
       "      <th>4반</th>\n",
       "      <th>합계</th>\n",
       "    </tr>\n",
       "    <tr>\n",
       "      <th>과목</th>\n",
       "      <th></th>\n",
       "      <th></th>\n",
       "      <th></th>\n",
       "      <th></th>\n",
       "      <th></th>\n",
       "    </tr>\n",
       "  </thead>\n",
       "  <tbody>\n",
       "    <tr>\n",
       "      <th>수학</th>\n",
       "      <td>45</td>\n",
       "      <td>44</td>\n",
       "      <td>73</td>\n",
       "      <td>39</td>\n",
       "      <td>201</td>\n",
       "    </tr>\n",
       "    <tr>\n",
       "      <th>영어</th>\n",
       "      <td>76</td>\n",
       "      <td>92</td>\n",
       "      <td>45</td>\n",
       "      <td>69</td>\n",
       "      <td>282</td>\n",
       "    </tr>\n",
       "    <tr>\n",
       "      <th>국어</th>\n",
       "      <td>47</td>\n",
       "      <td>92</td>\n",
       "      <td>45</td>\n",
       "      <td>69</td>\n",
       "      <td>253</td>\n",
       "    </tr>\n",
       "    <tr>\n",
       "      <th>사회</th>\n",
       "      <td>92</td>\n",
       "      <td>81</td>\n",
       "      <td>85</td>\n",
       "      <td>40</td>\n",
       "      <td>298</td>\n",
       "    </tr>\n",
       "    <tr>\n",
       "      <th>과학</th>\n",
       "      <td>11</td>\n",
       "      <td>79</td>\n",
       "      <td>47</td>\n",
       "      <td>26</td>\n",
       "      <td>163</td>\n",
       "    </tr>\n",
       "  </tbody>\n",
       "</table>\n",
       "</div>"
      ]
     },
     "execution_count": 59,
     "metadata": {},
     "output_type": "execute_result"
    }
   ],
   "execution_count": 59
  },
  {
   "cell_type": "code",
   "metadata": {
    "id": "AiC62Fq0C5Eh",
    "ExecuteTime": {
     "end_time": "2025-04-18T00:29:21.570053Z",
     "start_time": "2025-04-18T00:29:21.556144Z"
    }
   },
   "source": [
    "score['평균'] = score[['1반', '2반', '3반', '4반']].mean(axis=1).round(2)\n",
    "score"
   ],
   "outputs": [
    {
     "data": {
      "text/plain": [
       "    1반  2반  3반  4반   합계     평균\n",
       "과목                            \n",
       "수학  45  44  73  39  201  50.25\n",
       "영어  76  92  45  69  282  70.50\n",
       "국어  47  92  45  69  253  63.25\n",
       "사회  92  81  85  40  298  74.50\n",
       "과학  11  79  47  26  163  40.75"
      ],
      "text/html": [
       "<div>\n",
       "<style scoped>\n",
       "    .dataframe tbody tr th:only-of-type {\n",
       "        vertical-align: middle;\n",
       "    }\n",
       "\n",
       "    .dataframe tbody tr th {\n",
       "        vertical-align: top;\n",
       "    }\n",
       "\n",
       "    .dataframe thead th {\n",
       "        text-align: right;\n",
       "    }\n",
       "</style>\n",
       "<table border=\"1\" class=\"dataframe\">\n",
       "  <thead>\n",
       "    <tr style=\"text-align: right;\">\n",
       "      <th></th>\n",
       "      <th>1반</th>\n",
       "      <th>2반</th>\n",
       "      <th>3반</th>\n",
       "      <th>4반</th>\n",
       "      <th>합계</th>\n",
       "      <th>평균</th>\n",
       "    </tr>\n",
       "    <tr>\n",
       "      <th>과목</th>\n",
       "      <th></th>\n",
       "      <th></th>\n",
       "      <th></th>\n",
       "      <th></th>\n",
       "      <th></th>\n",
       "      <th></th>\n",
       "    </tr>\n",
       "  </thead>\n",
       "  <tbody>\n",
       "    <tr>\n",
       "      <th>수학</th>\n",
       "      <td>45</td>\n",
       "      <td>44</td>\n",
       "      <td>73</td>\n",
       "      <td>39</td>\n",
       "      <td>201</td>\n",
       "      <td>50.25</td>\n",
       "    </tr>\n",
       "    <tr>\n",
       "      <th>영어</th>\n",
       "      <td>76</td>\n",
       "      <td>92</td>\n",
       "      <td>45</td>\n",
       "      <td>69</td>\n",
       "      <td>282</td>\n",
       "      <td>70.50</td>\n",
       "    </tr>\n",
       "    <tr>\n",
       "      <th>국어</th>\n",
       "      <td>47</td>\n",
       "      <td>92</td>\n",
       "      <td>45</td>\n",
       "      <td>69</td>\n",
       "      <td>253</td>\n",
       "      <td>63.25</td>\n",
       "    </tr>\n",
       "    <tr>\n",
       "      <th>사회</th>\n",
       "      <td>92</td>\n",
       "      <td>81</td>\n",
       "      <td>85</td>\n",
       "      <td>40</td>\n",
       "      <td>298</td>\n",
       "      <td>74.50</td>\n",
       "    </tr>\n",
       "    <tr>\n",
       "      <th>과학</th>\n",
       "      <td>11</td>\n",
       "      <td>79</td>\n",
       "      <td>47</td>\n",
       "      <td>26</td>\n",
       "      <td>163</td>\n",
       "      <td>40.75</td>\n",
       "    </tr>\n",
       "  </tbody>\n",
       "</table>\n",
       "</div>"
      ]
     },
     "execution_count": 60,
     "metadata": {},
     "output_type": "execute_result"
    }
   ],
   "execution_count": 60
  },
  {
   "cell_type": "markdown",
   "metadata": {
    "id": "_nMX-UnD03vH"
   },
   "source": [
    "#### Pandas 연습 03-2\n",
    "\n",
    "반평균을 계산 하여 row 추가 하기\n",
    "```\n",
    "\t      1반\t2반\t 3반 \t4반 \t합계\t평균\n",
    "과목\n",
    "수학\t45.0\t44.0\t73.0\t39.0\t201.0\t50.25\n",
    "영어\t76.0\t92.0\t45.0\t69.0\t282.0\t70.50\n",
    "국어\t47.0\t92.0\t45.0\t69.0\t253.0\t63.25\n",
    "사회\t92.0\t81.0\t85.0\t40.0\t298.0\t74.50\n",
    "과학\t11.0\t79.0\t47.0\t26.0\t163.0\t40.75\n",
    "반평균  54.2\t77.6\t59.0\t48.6\t239.4\t59.85\n",
    "```\n"
   ]
  },
  {
   "cell_type": "code",
   "metadata": {
    "id": "uV1YpqAwaq7C",
    "ExecuteTime": {
     "end_time": "2025-04-18T00:29:21.749583Z",
     "start_time": "2025-04-18T00:29:21.741860Z"
    }
   },
   "source": [
    "score.mean()"
   ],
   "outputs": [
    {
     "data": {
      "text/plain": [
       "1반     54.20\n",
       "2반     77.60\n",
       "3반     59.00\n",
       "4반     48.60\n",
       "합계    239.40\n",
       "평균     59.85\n",
       "dtype: float64"
      ]
     },
     "execution_count": 61,
     "metadata": {},
     "output_type": "execute_result"
    }
   ],
   "execution_count": 61
  },
  {
   "cell_type": "code",
   "metadata": {
    "id": "VwaxtzX1C68U",
    "ExecuteTime": {
     "end_time": "2025-04-18T00:29:21.980464Z",
     "start_time": "2025-04-18T00:29:21.957997Z"
    }
   },
   "source": [
    "score.loc['반평균'] = score.mean()\n",
    "\n",
    "score.loc['반평균', '합계'] = score.loc['반평균', ['1반', '2반', '3반', '4반']].sum()\n",
    "\n",
    "score.loc['반평균', '평균'] = score.loc['반평균', ['1반', '2반', '3반', '4반']].mean().round(2)\n",
    "\n",
    "score"
   ],
   "outputs": [
    {
     "data": {
      "text/plain": [
       "       1반    2반    3반    4반     합계     평균\n",
       "과목                                       \n",
       "수학   45.0  44.0  73.0  39.0  201.0  50.25\n",
       "영어   76.0  92.0  45.0  69.0  282.0  70.50\n",
       "국어   47.0  92.0  45.0  69.0  253.0  63.25\n",
       "사회   92.0  81.0  85.0  40.0  298.0  74.50\n",
       "과학   11.0  79.0  47.0  26.0  163.0  40.75\n",
       "반평균  54.2  77.6  59.0  48.6  239.4  59.85"
      ],
      "text/html": [
       "<div>\n",
       "<style scoped>\n",
       "    .dataframe tbody tr th:only-of-type {\n",
       "        vertical-align: middle;\n",
       "    }\n",
       "\n",
       "    .dataframe tbody tr th {\n",
       "        vertical-align: top;\n",
       "    }\n",
       "\n",
       "    .dataframe thead th {\n",
       "        text-align: right;\n",
       "    }\n",
       "</style>\n",
       "<table border=\"1\" class=\"dataframe\">\n",
       "  <thead>\n",
       "    <tr style=\"text-align: right;\">\n",
       "      <th></th>\n",
       "      <th>1반</th>\n",
       "      <th>2반</th>\n",
       "      <th>3반</th>\n",
       "      <th>4반</th>\n",
       "      <th>합계</th>\n",
       "      <th>평균</th>\n",
       "    </tr>\n",
       "    <tr>\n",
       "      <th>과목</th>\n",
       "      <th></th>\n",
       "      <th></th>\n",
       "      <th></th>\n",
       "      <th></th>\n",
       "      <th></th>\n",
       "      <th></th>\n",
       "    </tr>\n",
       "  </thead>\n",
       "  <tbody>\n",
       "    <tr>\n",
       "      <th>수학</th>\n",
       "      <td>45.0</td>\n",
       "      <td>44.0</td>\n",
       "      <td>73.0</td>\n",
       "      <td>39.0</td>\n",
       "      <td>201.0</td>\n",
       "      <td>50.25</td>\n",
       "    </tr>\n",
       "    <tr>\n",
       "      <th>영어</th>\n",
       "      <td>76.0</td>\n",
       "      <td>92.0</td>\n",
       "      <td>45.0</td>\n",
       "      <td>69.0</td>\n",
       "      <td>282.0</td>\n",
       "      <td>70.50</td>\n",
       "    </tr>\n",
       "    <tr>\n",
       "      <th>국어</th>\n",
       "      <td>47.0</td>\n",
       "      <td>92.0</td>\n",
       "      <td>45.0</td>\n",
       "      <td>69.0</td>\n",
       "      <td>253.0</td>\n",
       "      <td>63.25</td>\n",
       "    </tr>\n",
       "    <tr>\n",
       "      <th>사회</th>\n",
       "      <td>92.0</td>\n",
       "      <td>81.0</td>\n",
       "      <td>85.0</td>\n",
       "      <td>40.0</td>\n",
       "      <td>298.0</td>\n",
       "      <td>74.50</td>\n",
       "    </tr>\n",
       "    <tr>\n",
       "      <th>과학</th>\n",
       "      <td>11.0</td>\n",
       "      <td>79.0</td>\n",
       "      <td>47.0</td>\n",
       "      <td>26.0</td>\n",
       "      <td>163.0</td>\n",
       "      <td>40.75</td>\n",
       "    </tr>\n",
       "    <tr>\n",
       "      <th>반평균</th>\n",
       "      <td>54.2</td>\n",
       "      <td>77.6</td>\n",
       "      <td>59.0</td>\n",
       "      <td>48.6</td>\n",
       "      <td>239.4</td>\n",
       "      <td>59.85</td>\n",
       "    </tr>\n",
       "  </tbody>\n",
       "</table>\n",
       "</div>"
      ]
     },
     "execution_count": 62,
     "metadata": {},
     "output_type": "execute_result"
    }
   ],
   "execution_count": 62
  },
  {
   "cell_type": "markdown",
   "metadata": {
    "id": "1s1Tlohj2p-K"
   },
   "source": [
    "#### Pandas 연습 03-3\n",
    "\n",
    "반 평균, 합계, 평균을 제외한 데이터 중 과목별 가장 큰 값, 작은 값을 구하시오.\n",
    "\n",
    "```\n",
    "과목\n",
    "수학    73.0\n",
    "영어    92.0\n",
    "국어    92.0\n",
    "사회    92.0\n",
    "과학    79.0\n",
    "dtype: float64\n",
    "```\n",
    "```\n",
    "과목\n",
    "수학    39.0\n",
    "영어    45.0\n",
    "국어    45.0\n",
    "사회    40.0\n",
    "과학    11.0\n",
    "dtype: float64\n",
    "```\n"
   ]
  },
  {
   "metadata": {
    "ExecuteTime": {
     "end_time": "2025-04-18T00:33:46.685410Z",
     "start_time": "2025-04-18T00:33:46.672608Z"
    }
   },
   "cell_type": "code",
   "source": [
    "subject_max = score[['1반', '2반', '3반', '4반']].max(axis=1)\n",
    "subject_max = subject_max.drop('반평균')\n",
    "print(subject_max)\n",
    "\n",
    "subject_min = score[['1반', '2반', '3반', '4반']].min(axis=1)\n",
    "subject_min = subject_min.drop('반평균')\n",
    "print(subject_min)"
   ],
   "outputs": [
    {
     "name": "stdout",
     "output_type": "stream",
     "text": [
      "과목\n",
      "수학    73.0\n",
      "영어    92.0\n",
      "국어    92.0\n",
      "사회    92.0\n",
      "과학    79.0\n",
      "dtype: float64\n",
      "과목\n",
      "수학    39.0\n",
      "영어    45.0\n",
      "국어    45.0\n",
      "사회    40.0\n",
      "과학    11.0\n",
      "dtype: float64\n"
     ]
    }
   ],
   "execution_count": 73
  },
  {
   "cell_type": "markdown",
   "metadata": {
    "id": "cfDTvdbb3R49"
   },
   "source": [
    "#### Pandas 연습 03-4\n",
    "\n",
    "과목별 가장 큰 값과 작은 값의 차를 구하시오.\n",
    "```\n",
    "과목\n",
    "수학    34.0\n",
    "영어    47.0\n",
    "국어    47.0\n",
    "사회    52.0\n",
    "과학    68.0\n",
    "dtype: float64\n",
    "```\n"
   ]
  },
  {
   "cell_type": "code",
   "metadata": {
    "id": "SiLZxhJTDGTb",
    "ExecuteTime": {
     "end_time": "2025-04-18T00:34:05.898296Z",
     "start_time": "2025-04-18T00:34:05.891591Z"
    }
   },
   "source": [
    "subject_diff = subject_max - subject_min\n",
    "subject_diff"
   ],
   "outputs": [
    {
     "data": {
      "text/plain": [
       "과목\n",
       "수학    34.0\n",
       "영어    47.0\n",
       "국어    47.0\n",
       "사회    52.0\n",
       "과학    68.0\n",
       "dtype: float64"
      ]
     },
     "execution_count": 74,
     "metadata": {},
     "output_type": "execute_result"
    }
   ],
   "execution_count": 74
  }
 ],
 "metadata": {
  "colab": {
   "provenance": []
  },
  "kernelspec": {
   "display_name": "Python 3",
   "name": "python3"
  }
 },
 "nbformat": 4,
 "nbformat_minor": 0
}
